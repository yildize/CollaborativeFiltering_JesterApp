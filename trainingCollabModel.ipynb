{
 "cells": [
  {
   "cell_type": "code",
   "execution_count": 4,
   "metadata": {},
   "outputs": [],
   "source": [
    "#For unzipping\n",
    "#import zipfile\n",
    "#with zipfile.ZipFile('../storage/jokes.zip', 'r') as zip_ref:\n",
    "#    zip_ref.extractall('../storage/jokes/')"
   ]
  },
  {
   "cell_type": "code",
   "execution_count": 1,
   "metadata": {},
   "outputs": [],
   "source": [
    "!pip install -Uqq fastbook\n",
    "import fastbook\n",
    "fastbook.setup_book()\n",
    "\n",
    "from fastbook import *"
   ]
  },
  {
   "cell_type": "markdown",
   "metadata": {},
   "source": [
    "## Data\n",
    "Let's load the dataset and examine it:"
   ]
  },
  {
   "cell_type": "code",
   "execution_count": 2,
   "metadata": {},
   "outputs": [],
   "source": [
    "path = Path('../storage/jokes')"
   ]
  },
  {
   "cell_type": "code",
   "execution_count": 3,
   "metadata": {},
   "outputs": [
    {
     "data": {
      "text/plain": [
       "(#2) [Path('../storage/jokes/jester_ratings.csv'),Path('../storage/jokes/jester_items.csv')]"
      ]
     },
     "execution_count": 3,
     "metadata": {},
     "output_type": "execute_result"
    }
   ],
   "source": [
    "path.ls()"
   ]
  },
  {
   "cell_type": "code",
   "execution_count": 4,
   "metadata": {},
   "outputs": [
    {
     "data": {
      "text/html": [
       "<div>\n",
       "<style scoped>\n",
       "    .dataframe tbody tr th:only-of-type {\n",
       "        vertical-align: middle;\n",
       "    }\n",
       "\n",
       "    .dataframe tbody tr th {\n",
       "        vertical-align: top;\n",
       "    }\n",
       "\n",
       "    .dataframe thead th {\n",
       "        text-align: right;\n",
       "    }\n",
       "</style>\n",
       "<table border=\"1\" class=\"dataframe\">\n",
       "  <thead>\n",
       "    <tr style=\"text-align: right;\">\n",
       "      <th></th>\n",
       "      <th>jokeId</th>\n",
       "      <th>jokeText</th>\n",
       "    </tr>\n",
       "  </thead>\n",
       "  <tbody>\n",
       "    <tr>\n",
       "      <th>0</th>\n",
       "      <td>1</td>\n",
       "      <td>A man visits the doctor. The doctor says \"I have bad news for you.You have\\ncancer and Alzheimer's disease\". \\nThe man replies \"Well,thank God I don't have cancer!\"\\n</td>\n",
       "    </tr>\n",
       "    <tr>\n",
       "      <th>1</th>\n",
       "      <td>2</td>\n",
       "      <td>This couple had an excellent relationship going until one day he came home\\nfrom work to find his girlfriend packing. He asked her why she was leaving him\\nand she told him that she had heard awful things about him. \\n\\n\"What could they possibly have said to make you move out?\" \\n\\n\"They told me that you were a pedophile.\" \\n\\nHe replied, \"That's an awfully big word for a ten year old.\" \\n</td>\n",
       "    </tr>\n",
       "    <tr>\n",
       "      <th>2</th>\n",
       "      <td>3</td>\n",
       "      <td>Q. What's 200 feet long and has 4 teeth? \\n\\nA. The front row at a Willie Nelson Concert.\\n</td>\n",
       "    </tr>\n",
       "    <tr>\n",
       "      <th>3</th>\n",
       "      <td>4</td>\n",
       "      <td>Q. What's the difference between a man and a toilet? \\n\\nA. A toilet doesn't follow you around after you use it.\\n</td>\n",
       "    </tr>\n",
       "    <tr>\n",
       "      <th>4</th>\n",
       "      <td>5</td>\n",
       "      <td>Q.\\tWhat's O. J. Simpson's Internet address? \\nA.\\tSlash, slash, backslash, slash, slash, escape.\\n</td>\n",
       "    </tr>\n",
       "  </tbody>\n",
       "</table>\n",
       "</div>"
      ],
      "text/plain": [
       "   jokeId  \\\n",
       "0       1   \n",
       "1       2   \n",
       "2       3   \n",
       "3       4   \n",
       "4       5   \n",
       "\n",
       "                                                                                                                                                                                                                                                                                                                                                                                                   jokeText  \n",
       "0                                                                                                                                                                                                                                    A man visits the doctor. The doctor says \"I have bad news for you.You have\\ncancer and Alzheimer's disease\". \\nThe man replies \"Well,thank God I don't have cancer!\"\\n  \n",
       "1  This couple had an excellent relationship going until one day he came home\\nfrom work to find his girlfriend packing. He asked her why she was leaving him\\nand she told him that she had heard awful things about him. \\n\\n\"What could they possibly have said to make you move out?\" \\n\\n\"They told me that you were a pedophile.\" \\n\\nHe replied, \"That's an awfully big word for a ten year old.\" \\n  \n",
       "2                                                                                                                                                                                                                                                                                                               Q. What's 200 feet long and has 4 teeth? \\n\\nA. The front row at a Willie Nelson Concert.\\n  \n",
       "3                                                                                                                                                                                                                                                                                        Q. What's the difference between a man and a toilet? \\n\\nA. A toilet doesn't follow you around after you use it.\\n  \n",
       "4                                                                                                                                                                                                                                                                                                       Q.\\tWhat's O. J. Simpson's Internet address? \\nA.\\tSlash, slash, backslash, slash, slash, escape.\\n  "
      ]
     },
     "execution_count": 4,
     "metadata": {},
     "output_type": "execute_result"
    }
   ],
   "source": [
    "#Lets see the jester_items.csv:\n",
    "jokes = pd.read_csv(path/'jester_items.csv')\n",
    "jokes.head()"
   ]
  },
  {
   "cell_type": "code",
   "execution_count": 6,
   "metadata": {},
   "outputs": [
    {
     "name": "stdout",
     "output_type": "stream",
     "text": [
      "A man visits the doctor. The doctor says \"I have bad news for you.You have\n",
      "cancer and Alzheimer's disease\". \n",
      "The man replies \"Well,thank God I don't have cancer!\"\n",
      "\n"
     ]
    }
   ],
   "source": [
    "#Let's see the first joke:\n",
    "print(jokes.iloc[0,1])"
   ]
  },
  {
   "cell_type": "code",
   "execution_count": 7,
   "metadata": {},
   "outputs": [
    {
     "data": {
      "text/html": [
       "<div>\n",
       "<style scoped>\n",
       "    .dataframe tbody tr th:only-of-type {\n",
       "        vertical-align: middle;\n",
       "    }\n",
       "\n",
       "    .dataframe tbody tr th {\n",
       "        vertical-align: top;\n",
       "    }\n",
       "\n",
       "    .dataframe thead th {\n",
       "        text-align: right;\n",
       "    }\n",
       "</style>\n",
       "<table border=\"1\" class=\"dataframe\">\n",
       "  <thead>\n",
       "    <tr style=\"text-align: right;\">\n",
       "      <th></th>\n",
       "      <th>userId</th>\n",
       "      <th>jokeId</th>\n",
       "      <th>rating</th>\n",
       "    </tr>\n",
       "  </thead>\n",
       "  <tbody>\n",
       "    <tr>\n",
       "      <th>0</th>\n",
       "      <td>1</td>\n",
       "      <td>5</td>\n",
       "      <td>0.219</td>\n",
       "    </tr>\n",
       "    <tr>\n",
       "      <th>1</th>\n",
       "      <td>1</td>\n",
       "      <td>7</td>\n",
       "      <td>-9.281</td>\n",
       "    </tr>\n",
       "    <tr>\n",
       "      <th>2</th>\n",
       "      <td>1</td>\n",
       "      <td>8</td>\n",
       "      <td>-9.281</td>\n",
       "    </tr>\n",
       "    <tr>\n",
       "      <th>3</th>\n",
       "      <td>1</td>\n",
       "      <td>13</td>\n",
       "      <td>-6.781</td>\n",
       "    </tr>\n",
       "    <tr>\n",
       "      <th>4</th>\n",
       "      <td>1</td>\n",
       "      <td>15</td>\n",
       "      <td>0.875</td>\n",
       "    </tr>\n",
       "  </tbody>\n",
       "</table>\n",
       "</div>"
      ],
      "text/plain": [
       "   userId  jokeId  rating\n",
       "0       1       5   0.219\n",
       "1       1       7  -9.281\n",
       "2       1       8  -9.281\n",
       "3       1      13  -6.781\n",
       "4       1      15   0.875"
      ]
     },
     "execution_count": 7,
     "metadata": {},
     "output_type": "execute_result"
    }
   ],
   "source": [
    "#let's see the ratings:\n",
    "ratings = pd.read_csv(path/'jester_ratings.csv')                    \n",
    "ratings.head()"
   ]
  },
  {
   "cell_type": "code",
   "execution_count": 8,
   "metadata": {},
   "outputs": [
    {
     "data": {
      "text/plain": [
       "(-10.0, 10.0)"
      ]
     },
     "execution_count": 8,
     "metadata": {},
     "output_type": "execute_result"
    }
   ],
   "source": [
    "#Min and max ratings:\n",
    "min,max = ratings[\"rating\"].min(),ratings[\"rating\"].max()\n",
    "min,max"
   ]
  },
  {
   "cell_type": "markdown",
   "metadata": {},
   "source": [
    "## Final Form of Data\n",
    "We have merged the data, and finally obtain a dataframe as below:"
   ]
  },
  {
   "cell_type": "code",
   "execution_count": 286,
   "metadata": {},
   "outputs": [
    {
     "data": {
      "text/html": [
       "<div>\n",
       "<style scoped>\n",
       "    .dataframe tbody tr th:only-of-type {\n",
       "        vertical-align: middle;\n",
       "    }\n",
       "\n",
       "    .dataframe tbody tr th {\n",
       "        vertical-align: top;\n",
       "    }\n",
       "\n",
       "    .dataframe thead th {\n",
       "        text-align: right;\n",
       "    }\n",
       "</style>\n",
       "<table border=\"1\" class=\"dataframe\">\n",
       "  <thead>\n",
       "    <tr style=\"text-align: right;\">\n",
       "      <th></th>\n",
       "      <th>userId</th>\n",
       "      <th>jokeId</th>\n",
       "      <th>rating</th>\n",
       "      <th>jokeText</th>\n",
       "    </tr>\n",
       "  </thead>\n",
       "  <tbody>\n",
       "    <tr>\n",
       "      <th>0</th>\n",
       "      <td>1</td>\n",
       "      <td>5</td>\n",
       "      <td>0.219</td>\n",
       "      <td>Q.\\tWhat's O. J. Simpson's Internet address? \\nA.\\tSlash, slash, backslash, slash, slash, escape.\\n</td>\n",
       "    </tr>\n",
       "    <tr>\n",
       "      <th>437</th>\n",
       "      <td>481</td>\n",
       "      <td>5</td>\n",
       "      <td>-7.531</td>\n",
       "      <td>Q.\\tWhat's O. J. Simpson's Internet address? \\nA.\\tSlash, slash, backslash, slash, slash, escape.\\n</td>\n",
       "    </tr>\n",
       "    <tr>\n",
       "      <th>438</th>\n",
       "      <td>482</td>\n",
       "      <td>5</td>\n",
       "      <td>1.875</td>\n",
       "      <td>Q.\\tWhat's O. J. Simpson's Internet address? \\nA.\\tSlash, slash, backslash, slash, slash, escape.\\n</td>\n",
       "    </tr>\n",
       "    <tr>\n",
       "      <th>439</th>\n",
       "      <td>483</td>\n",
       "      <td>5</td>\n",
       "      <td>-2.031</td>\n",
       "      <td>Q.\\tWhat's O. J. Simpson's Internet address? \\nA.\\tSlash, slash, backslash, slash, slash, escape.\\n</td>\n",
       "    </tr>\n",
       "    <tr>\n",
       "      <th>440</th>\n",
       "      <td>484</td>\n",
       "      <td>5</td>\n",
       "      <td>2.281</td>\n",
       "      <td>Q.\\tWhat's O. J. Simpson's Internet address? \\nA.\\tSlash, slash, backslash, slash, slash, escape.\\n</td>\n",
       "    </tr>\n",
       "    <tr>\n",
       "      <th>...</th>\n",
       "      <td>...</td>\n",
       "      <td>...</td>\n",
       "      <td>...</td>\n",
       "      <td>...</td>\n",
       "    </tr>\n",
       "    <tr>\n",
       "      <th>1749321</th>\n",
       "      <td>27792</td>\n",
       "      <td>150</td>\n",
       "      <td>1.031</td>\n",
       "      <td>In an interview with David Letterman, Carter passed along an anecdote of a translation problem in Japan. Carter was speaking at a business lunch in Tokyo, where he decided to open his speech with a brief joke. He told the joke, then waited for the translator to announce the Japanese version. Even though the story was quite short, Carter was surprised by how quickly the interpreter was able to re-tell it. Even more impressive was the reaction from the crowd. Carter thought the story was cute, but not outright hilarious, yet the crowd broke right up. Carter was very flattered. After the spee...</td>\n",
       "    </tr>\n",
       "    <tr>\n",
       "      <th>1749320</th>\n",
       "      <td>27781</td>\n",
       "      <td>150</td>\n",
       "      <td>2.719</td>\n",
       "      <td>In an interview with David Letterman, Carter passed along an anecdote of a translation problem in Japan. Carter was speaking at a business lunch in Tokyo, where he decided to open his speech with a brief joke. He told the joke, then waited for the translator to announce the Japanese version. Even though the story was quite short, Carter was surprised by how quickly the interpreter was able to re-tell it. Even more impressive was the reaction from the crowd. Carter thought the story was cute, but not outright hilarious, yet the crowd broke right up. Carter was very flattered. After the spee...</td>\n",
       "    </tr>\n",
       "    <tr>\n",
       "      <th>1749319</th>\n",
       "      <td>27777</td>\n",
       "      <td>150</td>\n",
       "      <td>3.250</td>\n",
       "      <td>In an interview with David Letterman, Carter passed along an anecdote of a translation problem in Japan. Carter was speaking at a business lunch in Tokyo, where he decided to open his speech with a brief joke. He told the joke, then waited for the translator to announce the Japanese version. Even though the story was quite short, Carter was surprised by how quickly the interpreter was able to re-tell it. Even more impressive was the reaction from the crowd. Carter thought the story was cute, but not outright hilarious, yet the crowd broke right up. Carter was very flattered. After the spee...</td>\n",
       "    </tr>\n",
       "    <tr>\n",
       "      <th>1749325</th>\n",
       "      <td>27802</td>\n",
       "      <td>150</td>\n",
       "      <td>4.406</td>\n",
       "      <td>In an interview with David Letterman, Carter passed along an anecdote of a translation problem in Japan. Carter was speaking at a business lunch in Tokyo, where he decided to open his speech with a brief joke. He told the joke, then waited for the translator to announce the Japanese version. Even though the story was quite short, Carter was surprised by how quickly the interpreter was able to re-tell it. Even more impressive was the reaction from the crowd. Carter thought the story was cute, but not outright hilarious, yet the crowd broke right up. Carter was very flattered. After the spee...</td>\n",
       "    </tr>\n",
       "    <tr>\n",
       "      <th>1761438</th>\n",
       "      <td>63978</td>\n",
       "      <td>150</td>\n",
       "      <td>7.562</td>\n",
       "      <td>In an interview with David Letterman, Carter passed along an anecdote of a translation problem in Japan. Carter was speaking at a business lunch in Tokyo, where he decided to open his speech with a brief joke. He told the joke, then waited for the translator to announce the Japanese version. Even though the story was quite short, Carter was surprised by how quickly the interpreter was able to re-tell it. Even more impressive was the reaction from the crowd. Carter thought the story was cute, but not outright hilarious, yet the crowd broke right up. Carter was very flattered. After the spee...</td>\n",
       "    </tr>\n",
       "  </tbody>\n",
       "</table>\n",
       "<p>1761439 rows × 4 columns</p>\n",
       "</div>"
      ],
      "text/plain": [
       "         userId  jokeId  rating  \\\n",
       "0             1       5   0.219   \n",
       "437         481       5  -7.531   \n",
       "438         482       5   1.875   \n",
       "439         483       5  -2.031   \n",
       "440         484       5   2.281   \n",
       "...         ...     ...     ...   \n",
       "1749321   27792     150   1.031   \n",
       "1749320   27781     150   2.719   \n",
       "1749319   27777     150   3.250   \n",
       "1749325   27802     150   4.406   \n",
       "1761438   63978     150   7.562   \n",
       "\n",
       "                                                                                                                                                                                                                                                                                                                                                                                                                                                                                                                                                                                                                        jokeText  \n",
       "0                                                                                                                                                                                                                                                                                                                                                                                                                                                                                                                            Q.\\tWhat's O. J. Simpson's Internet address? \\nA.\\tSlash, slash, backslash, slash, slash, escape.\\n  \n",
       "437                                                                                                                                                                                                                                                                                                                                                                                                                                                                                                                          Q.\\tWhat's O. J. Simpson's Internet address? \\nA.\\tSlash, slash, backslash, slash, slash, escape.\\n  \n",
       "438                                                                                                                                                                                                                                                                                                                                                                                                                                                                                                                          Q.\\tWhat's O. J. Simpson's Internet address? \\nA.\\tSlash, slash, backslash, slash, slash, escape.\\n  \n",
       "439                                                                                                                                                                                                                                                                                                                                                                                                                                                                                                                          Q.\\tWhat's O. J. Simpson's Internet address? \\nA.\\tSlash, slash, backslash, slash, slash, escape.\\n  \n",
       "440                                                                                                                                                                                                                                                                                                                                                                                                                                                                                                                          Q.\\tWhat's O. J. Simpson's Internet address? \\nA.\\tSlash, slash, backslash, slash, slash, escape.\\n  \n",
       "...                                                                                                                                                                                                                                                                                                                                                                                                                                                                                                                                                                                                                          ...  \n",
       "1749321  In an interview with David Letterman, Carter passed along an anecdote of a translation problem in Japan. Carter was speaking at a business lunch in Tokyo, where he decided to open his speech with a brief joke. He told the joke, then waited for the translator to announce the Japanese version. Even though the story was quite short, Carter was surprised by how quickly the interpreter was able to re-tell it. Even more impressive was the reaction from the crowd. Carter thought the story was cute, but not outright hilarious, yet the crowd broke right up. Carter was very flattered. After the spee...  \n",
       "1749320  In an interview with David Letterman, Carter passed along an anecdote of a translation problem in Japan. Carter was speaking at a business lunch in Tokyo, where he decided to open his speech with a brief joke. He told the joke, then waited for the translator to announce the Japanese version. Even though the story was quite short, Carter was surprised by how quickly the interpreter was able to re-tell it. Even more impressive was the reaction from the crowd. Carter thought the story was cute, but not outright hilarious, yet the crowd broke right up. Carter was very flattered. After the spee...  \n",
       "1749319  In an interview with David Letterman, Carter passed along an anecdote of a translation problem in Japan. Carter was speaking at a business lunch in Tokyo, where he decided to open his speech with a brief joke. He told the joke, then waited for the translator to announce the Japanese version. Even though the story was quite short, Carter was surprised by how quickly the interpreter was able to re-tell it. Even more impressive was the reaction from the crowd. Carter thought the story was cute, but not outright hilarious, yet the crowd broke right up. Carter was very flattered. After the spee...  \n",
       "1749325  In an interview with David Letterman, Carter passed along an anecdote of a translation problem in Japan. Carter was speaking at a business lunch in Tokyo, where he decided to open his speech with a brief joke. He told the joke, then waited for the translator to announce the Japanese version. Even though the story was quite short, Carter was surprised by how quickly the interpreter was able to re-tell it. Even more impressive was the reaction from the crowd. Carter thought the story was cute, but not outright hilarious, yet the crowd broke right up. Carter was very flattered. After the spee...  \n",
       "1761438  In an interview with David Letterman, Carter passed along an anecdote of a translation problem in Japan. Carter was speaking at a business lunch in Tokyo, where he decided to open his speech with a brief joke. He told the joke, then waited for the translator to announce the Japanese version. Even though the story was quite short, Carter was surprised by how quickly the interpreter was able to re-tell it. Even more impressive was the reaction from the crowd. Carter thought the story was cute, but not outright hilarious, yet the crowd broke right up. Carter was very flattered. After the spee...  \n",
       "\n",
       "[1761439 rows x 4 columns]"
      ]
     },
     "execution_count": 286,
     "metadata": {},
     "output_type": "execute_result"
    }
   ],
   "source": [
    "#Merge ratings with jokes:\n",
    "ratings = ratings.merge(jokes)\n",
    "ratings.sort_values(by = 'jokeId') "
   ]
  },
  {
   "cell_type": "markdown",
   "metadata": {},
   "source": [
    "## Build Dataloaders:\n",
    "Let's build a dataloaders using CollabDataLoaders class:"
   ]
  },
  {
   "cell_type": "code",
   "execution_count": 10,
   "metadata": {},
   "outputs": [
    {
     "data": {
      "text/html": [
       "<table border=\"1\" class=\"dataframe\">\n",
       "  <thead>\n",
       "    <tr style=\"text-align: right;\">\n",
       "      <th></th>\n",
       "      <th>userId</th>\n",
       "      <th>jokeId</th>\n",
       "      <th>rating</th>\n",
       "    </tr>\n",
       "  </thead>\n",
       "  <tbody>\n",
       "    <tr>\n",
       "      <th>0</th>\n",
       "      <td>31174</td>\n",
       "      <td>18</td>\n",
       "      <td>-2.844</td>\n",
       "    </tr>\n",
       "    <tr>\n",
       "      <th>1</th>\n",
       "      <td>61680</td>\n",
       "      <td>8</td>\n",
       "      <td>-1.875</td>\n",
       "    </tr>\n",
       "    <tr>\n",
       "      <th>2</th>\n",
       "      <td>34013</td>\n",
       "      <td>54</td>\n",
       "      <td>8.000</td>\n",
       "    </tr>\n",
       "    <tr>\n",
       "      <th>3</th>\n",
       "      <td>29518</td>\n",
       "      <td>63</td>\n",
       "      <td>5.969</td>\n",
       "    </tr>\n",
       "    <tr>\n",
       "      <th>4</th>\n",
       "      <td>17423</td>\n",
       "      <td>70</td>\n",
       "      <td>4.406</td>\n",
       "    </tr>\n",
       "    <tr>\n",
       "      <th>5</th>\n",
       "      <td>17452</td>\n",
       "      <td>97</td>\n",
       "      <td>4.281</td>\n",
       "    </tr>\n",
       "    <tr>\n",
       "      <th>6</th>\n",
       "      <td>29862</td>\n",
       "      <td>19</td>\n",
       "      <td>5.969</td>\n",
       "    </tr>\n",
       "    <tr>\n",
       "      <th>7</th>\n",
       "      <td>47534</td>\n",
       "      <td>141</td>\n",
       "      <td>-9.375</td>\n",
       "    </tr>\n",
       "    <tr>\n",
       "      <th>8</th>\n",
       "      <td>1204</td>\n",
       "      <td>86</td>\n",
       "      <td>4.250</td>\n",
       "    </tr>\n",
       "    <tr>\n",
       "      <th>9</th>\n",
       "      <td>54732</td>\n",
       "      <td>78</td>\n",
       "      <td>2.250</td>\n",
       "    </tr>\n",
       "  </tbody>\n",
       "</table>"
      ],
      "text/plain": [
       "<IPython.core.display.HTML object>"
      ]
     },
     "metadata": {},
     "output_type": "display_data"
    }
   ],
   "source": [
    "#Build dataloaders:\n",
    "from fastai.collab import *\n",
    "from fastai.tabular.all import *\n",
    "\n",
    "dls = CollabDataLoaders.from_df(ratings, bs=128)\n",
    "dls.show_batch()"
   ]
  },
  {
   "cell_type": "code",
   "execution_count": 11,
   "metadata": {},
   "outputs": [],
   "source": [
    "#Find number of unique users:\n",
    "n_users  = len(dls.classes['userId'])#58801\n",
    "\n",
    "#Find number of unique items:\n",
    "n_jokes = len(dls.classes['jokeId'])#141"
   ]
  },
  {
   "cell_type": "markdown",
   "metadata": {},
   "source": [
    "## Create a Learner and Train the Model:\n",
    "Let's create a learner using collab_learner class:"
   ]
  },
  {
   "cell_type": "code",
   "execution_count": 61,
   "metadata": {},
   "outputs": [],
   "source": [
    "#Create collab learner:\n",
    "from fastai.callback.fp16 import *\n",
    "learn = collab_learner(dls, n_factors=10, y_range=(-10, 10)).to_fp16()"
   ]
  },
  {
   "cell_type": "code",
   "execution_count": 62,
   "metadata": {},
   "outputs": [
    {
     "data": {
      "text/html": [
       "<table border=\"1\" class=\"dataframe\">\n",
       "  <thead>\n",
       "    <tr style=\"text-align: left;\">\n",
       "      <th>epoch</th>\n",
       "      <th>train_loss</th>\n",
       "      <th>valid_loss</th>\n",
       "      <th>time</th>\n",
       "    </tr>\n",
       "  </thead>\n",
       "  <tbody>\n",
       "    <tr>\n",
       "      <td>0</td>\n",
       "      <td>18.162472</td>\n",
       "      <td>18.394310</td>\n",
       "      <td>01:55</td>\n",
       "    </tr>\n",
       "    <tr>\n",
       "      <td>1</td>\n",
       "      <td>19.257246</td>\n",
       "      <td>19.283182</td>\n",
       "      <td>01:56</td>\n",
       "    </tr>\n",
       "    <tr>\n",
       "      <td>2</td>\n",
       "      <td>21.642477</td>\n",
       "      <td>21.827354</td>\n",
       "      <td>02:04</td>\n",
       "    </tr>\n",
       "    <tr>\n",
       "      <td>3</td>\n",
       "      <td>24.494801</td>\n",
       "      <td>24.228470</td>\n",
       "      <td>01:59</td>\n",
       "    </tr>\n",
       "    <tr>\n",
       "      <td>4</td>\n",
       "      <td>25.303505</td>\n",
       "      <td>25.269138</td>\n",
       "      <td>02:13</td>\n",
       "    </tr>\n",
       "    <tr>\n",
       "      <td>5</td>\n",
       "      <td>25.591831</td>\n",
       "      <td>25.182079</td>\n",
       "      <td>02:17</td>\n",
       "    </tr>\n",
       "    <tr>\n",
       "      <td>6</td>\n",
       "      <td>24.627476</td>\n",
       "      <td>25.131952</td>\n",
       "      <td>02:17</td>\n",
       "    </tr>\n",
       "    <tr>\n",
       "      <td>7</td>\n",
       "      <td>23.728424</td>\n",
       "      <td>24.417833</td>\n",
       "      <td>02:16</td>\n",
       "    </tr>\n",
       "    <tr>\n",
       "      <td>8</td>\n",
       "      <td>23.523991</td>\n",
       "      <td>23.804190</td>\n",
       "      <td>02:16</td>\n",
       "    </tr>\n",
       "    <tr>\n",
       "      <td>9</td>\n",
       "      <td>23.831015</td>\n",
       "      <td>22.768799</td>\n",
       "      <td>02:17</td>\n",
       "    </tr>\n",
       "    <tr>\n",
       "      <td>10</td>\n",
       "      <td>21.775972</td>\n",
       "      <td>21.892351</td>\n",
       "      <td>02:16</td>\n",
       "    </tr>\n",
       "    <tr>\n",
       "      <td>11</td>\n",
       "      <td>21.166531</td>\n",
       "      <td>21.034872</td>\n",
       "      <td>02:12</td>\n",
       "    </tr>\n",
       "    <tr>\n",
       "      <td>12</td>\n",
       "      <td>20.287344</td>\n",
       "      <td>20.071049</td>\n",
       "      <td>02:12</td>\n",
       "    </tr>\n",
       "    <tr>\n",
       "      <td>13</td>\n",
       "      <td>19.317146</td>\n",
       "      <td>19.273344</td>\n",
       "      <td>02:10</td>\n",
       "    </tr>\n",
       "    <tr>\n",
       "      <td>14</td>\n",
       "      <td>17.759739</td>\n",
       "      <td>18.344118</td>\n",
       "      <td>02:09</td>\n",
       "    </tr>\n",
       "    <tr>\n",
       "      <td>15</td>\n",
       "      <td>17.208138</td>\n",
       "      <td>17.644623</td>\n",
       "      <td>02:19</td>\n",
       "    </tr>\n",
       "    <tr>\n",
       "      <td>16</td>\n",
       "      <td>15.681338</td>\n",
       "      <td>17.375328</td>\n",
       "      <td>02:16</td>\n",
       "    </tr>\n",
       "    <tr>\n",
       "      <td>17</td>\n",
       "      <td>13.853106</td>\n",
       "      <td>17.508684</td>\n",
       "      <td>02:16</td>\n",
       "    </tr>\n",
       "    <tr>\n",
       "      <td>18</td>\n",
       "      <td>12.035480</td>\n",
       "      <td>17.999254</td>\n",
       "      <td>02:17</td>\n",
       "    </tr>\n",
       "    <tr>\n",
       "      <td>19</td>\n",
       "      <td>11.132260</td>\n",
       "      <td>18.176197</td>\n",
       "      <td>02:17</td>\n",
       "    </tr>\n",
       "  </tbody>\n",
       "</table>"
      ],
      "text/plain": [
       "<IPython.core.display.HTML object>"
      ]
     },
     "metadata": {},
     "output_type": "display_data"
    }
   ],
   "source": [
    "#train the model:\n",
    "learn.fit_one_cycle(20, 5e-2)"
   ]
  },
  {
   "cell_type": "code",
   "execution_count": null,
   "metadata": {},
   "outputs": [],
   "source": [
    "#Export learner\n",
    "learn.export(\"recommender.pkl\")"
   ]
  },
  {
   "cell_type": "markdown",
   "metadata": {},
   "source": [
    "## Model is Ready, Rest is Just Playing"
   ]
  },
  {
   "cell_type": "code",
   "execution_count": 12,
   "metadata": {},
   "outputs": [],
   "source": [
    "#Load learner from \n",
    "path = Path('./recommender.pkl')\n",
    "learn = load_learner(path)"
   ]
  },
  {
   "cell_type": "code",
   "execution_count": 13,
   "metadata": {},
   "outputs": [
    {
     "data": {
      "text/plain": [
       "EmbeddingDotBias(\n",
       "  (u_weight): Embedding(58798, 10)\n",
       "  (i_weight): Embedding(141, 10)\n",
       "  (u_bias): Embedding(58798, 1)\n",
       "  (i_bias): Embedding(141, 1)\n",
       ")"
      ]
     },
     "execution_count": 13,
     "metadata": {},
     "output_type": "execute_result"
    }
   ],
   "source": [
    "#Model details:\n",
    "learn.model"
   ]
  },
  {
   "cell_type": "code",
   "execution_count": 24,
   "metadata": {},
   "outputs": [
    {
     "data": {
      "text/plain": [
       "[105, 89, 53, 50, 114]"
      ]
     },
     "execution_count": 24,
     "metadata": {},
     "output_type": "execute_result"
    }
   ],
   "source": [
    "#See the movie ids with highest bias:\n",
    "movie_bias = learn.model.i_bias.weight.squeeze()\n",
    "idxs = movie_bias.argsort(descending=True)[:5]\n",
    "idxs2 = [dls.classes['jokeId'][i] for i in idxs]\n",
    "\n",
    "idxs2"
   ]
  },
  {
   "cell_type": "code",
   "execution_count": 26,
   "metadata": {},
   "outputs": [
    {
     "name": "stdout",
     "output_type": "stream",
     "text": [
      "A couple of hunters are out in the woods in the deep south when one of them falls to the ground. He doesn't seem to be breathing, and his eyes are rolled back in his head. The other guy whips out his cell phone and calls 911. He gasps to the operator, \"My friend is dead! What can I do?\" The operator, in a calm and soothing voice, says, \"Alright, take it easy. I can help. First, let's make sure he's dead.\" There is silence, and then a gun shot is heard. The hunter comes back on the line. \"Okay. Now what??\"\n"
     ]
    }
   ],
   "source": [
    "#Let's see the id=105 joke:\n",
    "id = 105\n",
    "print(jokes.iloc[id-1,1])"
   ]
  },
  {
   "cell_type": "code",
   "execution_count": 58,
   "metadata": {},
   "outputs": [
    {
     "name": "stdout",
     "output_type": "stream",
     "text": [
      "Random Id: 123\n",
      "When most people claim to be \"killing time\", it's only an expression. When Chuck Norris kills time, the minutes actually cease to exist.\n"
     ]
    }
   ],
   "source": [
    "#Show a random joke:\n",
    "\n",
    "#First get the unique jokeIds\n",
    "uniqueJokeIds = ratings.jokeId.unique()\n",
    "\n",
    "#Selected a random jokeid:\n",
    "randId = random.choice(uniqueJokeIds)\n",
    "    \n",
    "print(\"Random Id: \"+str(randId)+\"\\n\"+jokes.iloc[randId-1,1])"
   ]
  },
  {
   "cell_type": "code",
   "execution_count": 60,
   "metadata": {},
   "outputs": [],
   "source": [
    "#ratings[ratings[\"jokeId\"]==randId]"
   ]
  },
  {
   "cell_type": "code",
   "execution_count": 44,
   "metadata": {},
   "outputs": [
    {
     "data": {
      "text/plain": [
       "2.5158106407932617"
      ]
     },
     "execution_count": 44,
     "metadata": {},
     "output_type": "execute_result"
    }
   ],
   "source": [
    "#Average rating of the selected random joke:\n",
    "\n",
    "#filter the joke:\n",
    "df = ratings.loc[(ratings['jokeId'] == randId)]\n",
    "#Find the average rating of the joke:\n",
    "df.mean()[2]"
   ]
  },
  {
   "cell_type": "code",
   "execution_count": null,
   "metadata": {},
   "outputs": [],
   "source": [
    "##USER RATING INPUT FOR RANDOM JOKES:\n",
    "answerCount = 10\n",
    "#Now let's show 5 different joke and ask for user's ratings:\n",
    "from IPython.display import clear_output\n",
    "ratingsL = []\n",
    "ids = []\n",
    "for i in range(answerCount):\n",
    "    \n",
    "    randId = random.choice(uniqueJokeIds)\n",
    "\n",
    "    dfForAvg = ratings.loc[(ratings['jokeId'] == randId)]\n",
    "    avg = dfForAvg.mean()[2]\n",
    "\n",
    "    print(\"Random Id: \"+str(randId)+\"\\n\"+jokes.iloc[randId-1,1])\n",
    "    rating = input(\"Enter your rating: \")\n",
    "    print(\"Avg rank: \"+str(avg))\n",
    "    print('-------------------------------')\n",
    "    ratingsL.append(rating)\n",
    "    ids.append(randId)\n",
    "    #clear_output(wait=True)"
   ]
  },
  {
   "cell_type": "code",
   "execution_count": 277,
   "metadata": {},
   "outputs": [],
   "source": [
    "#Pseudo user input\n",
    "ratingsL = []\n",
    "ids = []\n",
    "for i in range(20):\n",
    "    ratingsL.append(random.randint(-10, 10))\n",
    "    ids.append(random.choice(uniqueJokeIds))\n",
    "    \n",
    "#ids,ratingsL"
   ]
  },
  {
   "cell_type": "code",
   "execution_count": 225,
   "metadata": {},
   "outputs": [
    {
     "data": {
      "text/html": [
       "<div>\n",
       "<style scoped>\n",
       "    .dataframe tbody tr th:only-of-type {\n",
       "        vertical-align: middle;\n",
       "    }\n",
       "\n",
       "    .dataframe tbody tr th {\n",
       "        vertical-align: top;\n",
       "    }\n",
       "\n",
       "    .dataframe thead th {\n",
       "        text-align: right;\n",
       "    }\n",
       "</style>\n",
       "<table border=\"1\" class=\"dataframe\">\n",
       "  <thead>\n",
       "    <tr style=\"text-align: right;\">\n",
       "      <th></th>\n",
       "      <th>jokeId</th>\n",
       "      <th>InputRating</th>\n",
       "    </tr>\n",
       "  </thead>\n",
       "  <tbody>\n",
       "    <tr>\n",
       "      <th>0</th>\n",
       "      <td>142</td>\n",
       "      <td>-8</td>\n",
       "    </tr>\n",
       "    <tr>\n",
       "      <th>1</th>\n",
       "      <td>43</td>\n",
       "      <td>-3</td>\n",
       "    </tr>\n",
       "    <tr>\n",
       "      <th>2</th>\n",
       "      <td>52</td>\n",
       "      <td>5</td>\n",
       "    </tr>\n",
       "    <tr>\n",
       "      <th>3</th>\n",
       "      <td>120</td>\n",
       "      <td>7</td>\n",
       "    </tr>\n",
       "    <tr>\n",
       "      <th>4</th>\n",
       "      <td>130</td>\n",
       "      <td>8</td>\n",
       "    </tr>\n",
       "    <tr>\n",
       "      <th>5</th>\n",
       "      <td>130</td>\n",
       "      <td>-3</td>\n",
       "    </tr>\n",
       "    <tr>\n",
       "      <th>6</th>\n",
       "      <td>42</td>\n",
       "      <td>3</td>\n",
       "    </tr>\n",
       "    <tr>\n",
       "      <th>7</th>\n",
       "      <td>109</td>\n",
       "      <td>-7</td>\n",
       "    </tr>\n",
       "    <tr>\n",
       "      <th>8</th>\n",
       "      <td>85</td>\n",
       "      <td>3</td>\n",
       "    </tr>\n",
       "    <tr>\n",
       "      <th>9</th>\n",
       "      <td>79</td>\n",
       "      <td>3</td>\n",
       "    </tr>\n",
       "    <tr>\n",
       "      <th>10</th>\n",
       "      <td>24</td>\n",
       "      <td>4</td>\n",
       "    </tr>\n",
       "    <tr>\n",
       "      <th>11</th>\n",
       "      <td>87</td>\n",
       "      <td>10</td>\n",
       "    </tr>\n",
       "    <tr>\n",
       "      <th>12</th>\n",
       "      <td>71</td>\n",
       "      <td>-9</td>\n",
       "    </tr>\n",
       "    <tr>\n",
       "      <th>13</th>\n",
       "      <td>76</td>\n",
       "      <td>0</td>\n",
       "    </tr>\n",
       "    <tr>\n",
       "      <th>14</th>\n",
       "      <td>80</td>\n",
       "      <td>-3</td>\n",
       "    </tr>\n",
       "    <tr>\n",
       "      <th>15</th>\n",
       "      <td>148</td>\n",
       "      <td>-4</td>\n",
       "    </tr>\n",
       "    <tr>\n",
       "      <th>16</th>\n",
       "      <td>53</td>\n",
       "      <td>4</td>\n",
       "    </tr>\n",
       "    <tr>\n",
       "      <th>17</th>\n",
       "      <td>127</td>\n",
       "      <td>3</td>\n",
       "    </tr>\n",
       "    <tr>\n",
       "      <th>18</th>\n",
       "      <td>122</td>\n",
       "      <td>-2</td>\n",
       "    </tr>\n",
       "    <tr>\n",
       "      <th>19</th>\n",
       "      <td>104</td>\n",
       "      <td>-3</td>\n",
       "    </tr>\n",
       "  </tbody>\n",
       "</table>\n",
       "</div>"
      ],
      "text/plain": [
       "    jokeId  InputRating\n",
       "0      142           -8\n",
       "1       43           -3\n",
       "2       52            5\n",
       "3      120            7\n",
       "4      130            8\n",
       "5      130           -3\n",
       "6       42            3\n",
       "7      109           -7\n",
       "8       85            3\n",
       "9       79            3\n",
       "10      24            4\n",
       "11      87           10\n",
       "12      71           -9\n",
       "13      76            0\n",
       "14      80           -3\n",
       "15     148           -4\n",
       "16      53            4\n",
       "17     127            3\n",
       "18     122           -2\n",
       "19     104           -3"
      ]
     },
     "execution_count": 225,
     "metadata": {},
     "output_type": "execute_result"
    }
   ],
   "source": [
    "#here are the joke ids and ratings:\n",
    "ratingsL = [int(i) for i in ratingsL]\n",
    "inputDF = pd.DataFrame({'jokeId':ids,'InputRating':ratingsL})\n",
    "inputDF"
   ]
  },
  {
   "cell_type": "code",
   "execution_count": 226,
   "metadata": {},
   "outputs": [
    {
     "data": {
      "text/html": [
       "<div>\n",
       "<style scoped>\n",
       "    .dataframe tbody tr th:only-of-type {\n",
       "        vertical-align: middle;\n",
       "    }\n",
       "\n",
       "    .dataframe tbody tr th {\n",
       "        vertical-align: top;\n",
       "    }\n",
       "\n",
       "    .dataframe thead th {\n",
       "        text-align: right;\n",
       "    }\n",
       "</style>\n",
       "<table border=\"1\" class=\"dataframe\">\n",
       "  <thead>\n",
       "    <tr style=\"text-align: right;\">\n",
       "      <th></th>\n",
       "      <th>userId</th>\n",
       "      <th>jokeId</th>\n",
       "      <th>rating</th>\n",
       "    </tr>\n",
       "  </thead>\n",
       "  <tbody>\n",
       "    <tr>\n",
       "      <th>0</th>\n",
       "      <td>1</td>\n",
       "      <td>5</td>\n",
       "      <td>0.219</td>\n",
       "    </tr>\n",
       "    <tr>\n",
       "      <th>1</th>\n",
       "      <td>2</td>\n",
       "      <td>5</td>\n",
       "      <td>-9.688</td>\n",
       "    </tr>\n",
       "    <tr>\n",
       "      <th>2</th>\n",
       "      <td>3</td>\n",
       "      <td>5</td>\n",
       "      <td>-9.844</td>\n",
       "    </tr>\n",
       "    <tr>\n",
       "      <th>3</th>\n",
       "      <td>4</td>\n",
       "      <td>5</td>\n",
       "      <td>-5.812</td>\n",
       "    </tr>\n",
       "    <tr>\n",
       "      <th>4</th>\n",
       "      <td>5</td>\n",
       "      <td>5</td>\n",
       "      <td>6.906</td>\n",
       "    </tr>\n",
       "    <tr>\n",
       "      <th>...</th>\n",
       "      <td>...</td>\n",
       "      <td>...</td>\n",
       "      <td>...</td>\n",
       "    </tr>\n",
       "    <tr>\n",
       "      <th>1761434</th>\n",
       "      <td>63949</td>\n",
       "      <td>150</td>\n",
       "      <td>5.312</td>\n",
       "    </tr>\n",
       "    <tr>\n",
       "      <th>1761435</th>\n",
       "      <td>63950</td>\n",
       "      <td>150</td>\n",
       "      <td>1.531</td>\n",
       "    </tr>\n",
       "    <tr>\n",
       "      <th>1761436</th>\n",
       "      <td>63955</td>\n",
       "      <td>150</td>\n",
       "      <td>2.469</td>\n",
       "    </tr>\n",
       "    <tr>\n",
       "      <th>1761437</th>\n",
       "      <td>63960</td>\n",
       "      <td>150</td>\n",
       "      <td>-1.188</td>\n",
       "    </tr>\n",
       "    <tr>\n",
       "      <th>1761438</th>\n",
       "      <td>63978</td>\n",
       "      <td>150</td>\n",
       "      <td>7.562</td>\n",
       "    </tr>\n",
       "  </tbody>\n",
       "</table>\n",
       "<p>1761439 rows × 3 columns</p>\n",
       "</div>"
      ],
      "text/plain": [
       "         userId  jokeId  rating\n",
       "0             1       5   0.219\n",
       "1             2       5  -9.688\n",
       "2             3       5  -9.844\n",
       "3             4       5  -5.812\n",
       "4             5       5   6.906\n",
       "...         ...     ...     ...\n",
       "1761434   63949     150   5.312\n",
       "1761435   63950     150   1.531\n",
       "1761436   63955     150   2.469\n",
       "1761437   63960     150  -1.188\n",
       "1761438   63978     150   7.562\n",
       "\n",
       "[1761439 rows x 3 columns]"
      ]
     },
     "execution_count": 226,
     "metadata": {},
     "output_type": "execute_result"
    }
   ],
   "source": [
    "#Drop the text column from ratings df:\n",
    "df = ratings.drop(\"jokeText\",axis=1);\n",
    "df"
   ]
  },
  {
   "cell_type": "code",
   "execution_count": 227,
   "metadata": {},
   "outputs": [
    {
     "data": {
      "text/html": [
       "<div>\n",
       "<style scoped>\n",
       "    .dataframe tbody tr th:only-of-type {\n",
       "        vertical-align: middle;\n",
       "    }\n",
       "\n",
       "    .dataframe tbody tr th {\n",
       "        vertical-align: top;\n",
       "    }\n",
       "\n",
       "    .dataframe thead th {\n",
       "        text-align: right;\n",
       "    }\n",
       "</style>\n",
       "<table border=\"1\" class=\"dataframe\">\n",
       "  <thead>\n",
       "    <tr style=\"text-align: right;\">\n",
       "      <th></th>\n",
       "      <th>userId</th>\n",
       "      <th>jokeId</th>\n",
       "      <th>rating</th>\n",
       "    </tr>\n",
       "  </thead>\n",
       "  <tbody>\n",
       "    <tr>\n",
       "      <th>464917</th>\n",
       "      <td>1</td>\n",
       "      <td>24</td>\n",
       "      <td>-7.906</td>\n",
       "    </tr>\n",
       "    <tr>\n",
       "      <th>634901</th>\n",
       "      <td>1</td>\n",
       "      <td>87</td>\n",
       "      <td>8.000</td>\n",
       "    </tr>\n",
       "    <tr>\n",
       "      <th>661374</th>\n",
       "      <td>1</td>\n",
       "      <td>76</td>\n",
       "      <td>9.312</td>\n",
       "    </tr>\n",
       "    <tr>\n",
       "      <th>921125</th>\n",
       "      <td>1</td>\n",
       "      <td>127</td>\n",
       "      <td>8.688</td>\n",
       "    </tr>\n",
       "    <tr>\n",
       "      <th>960807</th>\n",
       "      <td>1</td>\n",
       "      <td>80</td>\n",
       "      <td>0.062</td>\n",
       "    </tr>\n",
       "    <tr>\n",
       "      <th>...</th>\n",
       "      <td>...</td>\n",
       "      <td>...</td>\n",
       "      <td>...</td>\n",
       "    </tr>\n",
       "    <tr>\n",
       "      <th>676969</th>\n",
       "      <td>63978</td>\n",
       "      <td>76</td>\n",
       "      <td>7.125</td>\n",
       "    </tr>\n",
       "    <tr>\n",
       "      <th>752504</th>\n",
       "      <td>63978</td>\n",
       "      <td>120</td>\n",
       "      <td>9.406</td>\n",
       "    </tr>\n",
       "    <tr>\n",
       "      <th>1569088</th>\n",
       "      <td>63978</td>\n",
       "      <td>130</td>\n",
       "      <td>8.781</td>\n",
       "    </tr>\n",
       "    <tr>\n",
       "      <th>553171</th>\n",
       "      <td>63978</td>\n",
       "      <td>104</td>\n",
       "      <td>7.156</td>\n",
       "    </tr>\n",
       "    <tr>\n",
       "      <th>1732298</th>\n",
       "      <td>63978</td>\n",
       "      <td>148</td>\n",
       "      <td>8.781</td>\n",
       "    </tr>\n",
       "  </tbody>\n",
       "</table>\n",
       "<p>185627 rows × 3 columns</p>\n",
       "</div>"
      ],
      "text/plain": [
       "         userId  jokeId  rating\n",
       "464917        1      24  -7.906\n",
       "634901        1      87   8.000\n",
       "661374        1      76   9.312\n",
       "921125        1     127   8.688\n",
       "960807        1      80   0.062\n",
       "...         ...     ...     ...\n",
       "676969    63978      76   7.125\n",
       "752504    63978     120   9.406\n",
       "1569088   63978     130   8.781\n",
       "553171    63978     104   7.156\n",
       "1732298   63978     148   8.781\n",
       "\n",
       "[185627 rows x 3 columns]"
      ]
     },
     "execution_count": 227,
     "metadata": {},
     "output_type": "execute_result"
    }
   ],
   "source": [
    "#filter element ids that user has voted for:\n",
    "df = df[df['jokeId'].isin(ids)]\n",
    "df = df.sort_values(by = 'userId') \n",
    "df"
   ]
  },
  {
   "cell_type": "code",
   "execution_count": 229,
   "metadata": {},
   "outputs": [
    {
     "data": {
      "text/html": [
       "<div>\n",
       "<style scoped>\n",
       "    .dataframe tbody tr th:only-of-type {\n",
       "        vertical-align: middle;\n",
       "    }\n",
       "\n",
       "    .dataframe tbody tr th {\n",
       "        vertical-align: top;\n",
       "    }\n",
       "\n",
       "    .dataframe thead th {\n",
       "        text-align: right;\n",
       "    }\n",
       "</style>\n",
       "<table border=\"1\" class=\"dataframe\">\n",
       "  <thead>\n",
       "    <tr style=\"text-align: right;\">\n",
       "      <th></th>\n",
       "      <th>userId</th>\n",
       "      <th>jokeId</th>\n",
       "      <th>rating</th>\n",
       "    </tr>\n",
       "  </thead>\n",
       "  <tbody>\n",
       "    <tr>\n",
       "      <th>1300412</th>\n",
       "      <td>227</td>\n",
       "      <td>85</td>\n",
       "      <td>3.406</td>\n",
       "    </tr>\n",
       "    <tr>\n",
       "      <th>1382466</th>\n",
       "      <td>227</td>\n",
       "      <td>79</td>\n",
       "      <td>6.781</td>\n",
       "    </tr>\n",
       "    <tr>\n",
       "      <th>625289</th>\n",
       "      <td>227</td>\n",
       "      <td>109</td>\n",
       "      <td>5.375</td>\n",
       "    </tr>\n",
       "    <tr>\n",
       "      <th>1656748</th>\n",
       "      <td>227</td>\n",
       "      <td>142</td>\n",
       "      <td>2.219</td>\n",
       "    </tr>\n",
       "    <tr>\n",
       "      <th>773125</th>\n",
       "      <td>227</td>\n",
       "      <td>53</td>\n",
       "      <td>9.375</td>\n",
       "    </tr>\n",
       "    <tr>\n",
       "      <th>...</th>\n",
       "      <td>...</td>\n",
       "      <td>...</td>\n",
       "      <td>...</td>\n",
       "    </tr>\n",
       "    <tr>\n",
       "      <th>1558275</th>\n",
       "      <td>701</td>\n",
       "      <td>130</td>\n",
       "      <td>5.688</td>\n",
       "    </tr>\n",
       "    <tr>\n",
       "      <th>951974</th>\n",
       "      <td>701</td>\n",
       "      <td>42</td>\n",
       "      <td>2.125</td>\n",
       "    </tr>\n",
       "    <tr>\n",
       "      <th>960971</th>\n",
       "      <td>701</td>\n",
       "      <td>80</td>\n",
       "      <td>1.031</td>\n",
       "    </tr>\n",
       "    <tr>\n",
       "      <th>1300529</th>\n",
       "      <td>701</td>\n",
       "      <td>85</td>\n",
       "      <td>-6.062</td>\n",
       "    </tr>\n",
       "    <tr>\n",
       "      <th>625401</th>\n",
       "      <td>701</td>\n",
       "      <td>109</td>\n",
       "      <td>5.531</td>\n",
       "    </tr>\n",
       "  </tbody>\n",
       "</table>\n",
       "<p>114 rows × 3 columns</p>\n",
       "</div>"
      ],
      "text/plain": [
       "         userId  jokeId  rating\n",
       "1300412     227      85   3.406\n",
       "1382466     227      79   6.781\n",
       "625289      227     109   5.375\n",
       "1656748     227     142   2.219\n",
       "773125      227      53   9.375\n",
       "...         ...     ...     ...\n",
       "1558275     701     130   5.688\n",
       "951974      701      42   2.125\n",
       "960971      701      80   1.031\n",
       "1300529     701      85  -6.062\n",
       "625401      701     109   5.531\n",
       "\n",
       "[114 rows x 3 columns]"
      ]
     },
     "execution_count": 229,
     "metadata": {},
     "output_type": "execute_result"
    }
   ],
   "source": [
    "#Now eliminate users that voted for all of these jokes:\n",
    "for i in range(len(inputDF)):\n",
    "    df = df.groupby(['userId']).filter(lambda x: any(x['jokeId'] == ids[i]))\n",
    "df"
   ]
  },
  {
   "cell_type": "code",
   "execution_count": 278,
   "metadata": {},
   "outputs": [],
   "source": [
    "#Add input ratings:\n",
    "merged = df.merge(inputDF)\n",
    "merged = merged.sort_values(by = 'userId')\n",
    "#merged.head(20)"
   ]
  },
  {
   "cell_type": "code",
   "execution_count": 279,
   "metadata": {},
   "outputs": [],
   "source": [
    "# add error column\n",
    "merged[\"err\"] = abs(merged[\"rating\"]-merged[\"InputRating\"])\n",
    "#merged.head(20)"
   ]
  },
  {
   "cell_type": "code",
   "execution_count": 232,
   "metadata": {},
   "outputs": [
    {
     "data": {
      "text/plain": [
       "userId\n",
       "227    112.281\n",
       "304    108.531\n",
       "442    109.250\n",
       "476    117.032\n",
       "477    139.687\n",
       "701    114.934\n",
       "Name: err, dtype: float64"
      ]
     },
     "execution_count": 232,
     "metadata": {},
     "output_type": "execute_result"
    }
   ],
   "source": [
    "# groupby users by the total error:\n",
    "df2 = merged.groupby(['userId'])['err'].agg('sum')\n",
    "df2"
   ]
  },
  {
   "cell_type": "code",
   "execution_count": 233,
   "metadata": {},
   "outputs": [
    {
     "data": {
      "text/plain": [
       "304"
      ]
     },
     "execution_count": 233,
     "metadata": {},
     "output_type": "execute_result"
    }
   ],
   "source": [
    "#find the lowest error userId:\n",
    "mostSimilarUserId = df2.idxmin()\n",
    "mostSimilarUserId"
   ]
  },
  {
   "cell_type": "code",
   "execution_count": 245,
   "metadata": {},
   "outputs": [
    {
     "data": {
      "text/plain": [
       "(108.531, 5.426550000000001)"
      ]
     },
     "execution_count": 245,
     "metadata": {},
     "output_type": "execute_result"
    }
   ],
   "source": [
    "#find min error and min error/input length\n",
    "minErr = df2[df2.idxmin()]\n",
    "minAvgErr = df2[df2.idxmin()]/len(inputDF)\n",
    "minErr,minAvgErr"
   ]
  },
  {
   "cell_type": "code",
   "execution_count": 246,
   "metadata": {},
   "outputs": [
    {
     "data": {
      "text/html": [
       "<div>\n",
       "<style scoped>\n",
       "    .dataframe tbody tr th:only-of-type {\n",
       "        vertical-align: middle;\n",
       "    }\n",
       "\n",
       "    .dataframe tbody tr th {\n",
       "        vertical-align: top;\n",
       "    }\n",
       "\n",
       "    .dataframe thead th {\n",
       "        text-align: right;\n",
       "    }\n",
       "</style>\n",
       "<table border=\"1\" class=\"dataframe\">\n",
       "  <thead>\n",
       "    <tr style=\"text-align: right;\">\n",
       "      <th></th>\n",
       "      <th>userId</th>\n",
       "      <th>jokeId</th>\n",
       "      <th>rating</th>\n",
       "      <th>InputRating</th>\n",
       "      <th>err</th>\n",
       "    </tr>\n",
       "  </thead>\n",
       "  <tbody>\n",
       "    <tr>\n",
       "      <th>50</th>\n",
       "      <td>304</td>\n",
       "      <td>130</td>\n",
       "      <td>0.188</td>\n",
       "      <td>8</td>\n",
       "      <td>7.812</td>\n",
       "    </tr>\n",
       "    <tr>\n",
       "      <th>67</th>\n",
       "      <td>304</td>\n",
       "      <td>148</td>\n",
       "      <td>-8.125</td>\n",
       "      <td>-4</td>\n",
       "      <td>4.125</td>\n",
       "    </tr>\n",
       "    <tr>\n",
       "      <th>61</th>\n",
       "      <td>304</td>\n",
       "      <td>122</td>\n",
       "      <td>-8.375</td>\n",
       "      <td>-2</td>\n",
       "      <td>6.375</td>\n",
       "    </tr>\n",
       "    <tr>\n",
       "      <th>115</th>\n",
       "      <td>304</td>\n",
       "      <td>24</td>\n",
       "      <td>-7.719</td>\n",
       "      <td>4</td>\n",
       "      <td>11.719</td>\n",
       "    </tr>\n",
       "    <tr>\n",
       "      <th>109</th>\n",
       "      <td>304</td>\n",
       "      <td>80</td>\n",
       "      <td>6.719</td>\n",
       "      <td>-3</td>\n",
       "      <td>9.719</td>\n",
       "    </tr>\n",
       "    <tr>\n",
       "      <th>51</th>\n",
       "      <td>304</td>\n",
       "      <td>130</td>\n",
       "      <td>0.188</td>\n",
       "      <td>-3</td>\n",
       "      <td>3.188</td>\n",
       "    </tr>\n",
       "    <tr>\n",
       "      <th>91</th>\n",
       "      <td>304</td>\n",
       "      <td>127</td>\n",
       "      <td>8.281</td>\n",
       "      <td>3</td>\n",
       "      <td>5.281</td>\n",
       "    </tr>\n",
       "    <tr>\n",
       "      <th>43</th>\n",
       "      <td>304</td>\n",
       "      <td>52</td>\n",
       "      <td>-7.281</td>\n",
       "      <td>5</td>\n",
       "      <td>12.281</td>\n",
       "    </tr>\n",
       "    <tr>\n",
       "      <th>73</th>\n",
       "      <td>304</td>\n",
       "      <td>87</td>\n",
       "      <td>9.906</td>\n",
       "      <td>10</td>\n",
       "      <td>0.094</td>\n",
       "    </tr>\n",
       "    <tr>\n",
       "      <th>37</th>\n",
       "      <td>304</td>\n",
       "      <td>43</td>\n",
       "      <td>-7.000</td>\n",
       "      <td>-3</td>\n",
       "      <td>4.000</td>\n",
       "    </tr>\n",
       "    <tr>\n",
       "      <th>103</th>\n",
       "      <td>304</td>\n",
       "      <td>104</td>\n",
       "      <td>0.125</td>\n",
       "      <td>-3</td>\n",
       "      <td>3.125</td>\n",
       "    </tr>\n",
       "    <tr>\n",
       "      <th>1</th>\n",
       "      <td>304</td>\n",
       "      <td>85</td>\n",
       "      <td>6.625</td>\n",
       "      <td>3</td>\n",
       "      <td>3.625</td>\n",
       "    </tr>\n",
       "    <tr>\n",
       "      <th>7</th>\n",
       "      <td>304</td>\n",
       "      <td>79</td>\n",
       "      <td>-2.781</td>\n",
       "      <td>3</td>\n",
       "      <td>5.781</td>\n",
       "    </tr>\n",
       "    <tr>\n",
       "      <th>19</th>\n",
       "      <td>304</td>\n",
       "      <td>142</td>\n",
       "      <td>-5.875</td>\n",
       "      <td>-8</td>\n",
       "      <td>2.125</td>\n",
       "    </tr>\n",
       "    <tr>\n",
       "      <th>25</th>\n",
       "      <td>304</td>\n",
       "      <td>53</td>\n",
       "      <td>6.906</td>\n",
       "      <td>4</td>\n",
       "      <td>2.906</td>\n",
       "    </tr>\n",
       "    <tr>\n",
       "      <th>85</th>\n",
       "      <td>304</td>\n",
       "      <td>120</td>\n",
       "      <td>4.719</td>\n",
       "      <td>7</td>\n",
       "      <td>2.281</td>\n",
       "    </tr>\n",
       "    <tr>\n",
       "      <th>79</th>\n",
       "      <td>304</td>\n",
       "      <td>42</td>\n",
       "      <td>3.094</td>\n",
       "      <td>3</td>\n",
       "      <td>0.094</td>\n",
       "    </tr>\n",
       "    <tr>\n",
       "      <th>13</th>\n",
       "      <td>304</td>\n",
       "      <td>109</td>\n",
       "      <td>3.250</td>\n",
       "      <td>-7</td>\n",
       "      <td>10.250</td>\n",
       "    </tr>\n",
       "    <tr>\n",
       "      <th>31</th>\n",
       "      <td>304</td>\n",
       "      <td>76</td>\n",
       "      <td>6.500</td>\n",
       "      <td>0</td>\n",
       "      <td>6.500</td>\n",
       "    </tr>\n",
       "    <tr>\n",
       "      <th>97</th>\n",
       "      <td>304</td>\n",
       "      <td>71</td>\n",
       "      <td>-1.750</td>\n",
       "      <td>-9</td>\n",
       "      <td>7.250</td>\n",
       "    </tr>\n",
       "  </tbody>\n",
       "</table>\n",
       "</div>"
      ],
      "text/plain": [
       "     userId  jokeId  rating  InputRating     err\n",
       "50      304     130   0.188            8   7.812\n",
       "67      304     148  -8.125           -4   4.125\n",
       "61      304     122  -8.375           -2   6.375\n",
       "115     304      24  -7.719            4  11.719\n",
       "109     304      80   6.719           -3   9.719\n",
       "51      304     130   0.188           -3   3.188\n",
       "91      304     127   8.281            3   5.281\n",
       "43      304      52  -7.281            5  12.281\n",
       "73      304      87   9.906           10   0.094\n",
       "37      304      43  -7.000           -3   4.000\n",
       "103     304     104   0.125           -3   3.125\n",
       "1       304      85   6.625            3   3.625\n",
       "7       304      79  -2.781            3   5.781\n",
       "19      304     142  -5.875           -8   2.125\n",
       "25      304      53   6.906            4   2.906\n",
       "85      304     120   4.719            7   2.281\n",
       "79      304      42   3.094            3   0.094\n",
       "13      304     109   3.250           -7  10.250\n",
       "31      304      76   6.500            0   6.500\n",
       "97      304      71  -1.750           -9   7.250"
      ]
     },
     "execution_count": 246,
     "metadata": {},
     "output_type": "execute_result"
    }
   ],
   "source": [
    "#See the selected user's ratings for selected jokes:\n",
    "merged[merged[\"userId\"]==mostSimilarUserId]"
   ]
  },
  {
   "cell_type": "markdown",
   "metadata": {},
   "source": [
    "## Select a Joke and See How the Selected User Would React:"
   ]
  },
  {
   "cell_type": "code",
   "execution_count": 251,
   "metadata": {},
   "outputs": [],
   "source": [
    "#Let's choose a joke and, see how the selected person would react:\n",
    "jokeId = 5"
   ]
  },
  {
   "cell_type": "code",
   "execution_count": 280,
   "metadata": {},
   "outputs": [
    {
     "data": {
      "text/plain": [
       "-1.7563313161875944"
      ]
     },
     "execution_count": 280,
     "metadata": {},
     "output_type": "execute_result"
    }
   ],
   "source": [
    "#Calculate average rating for the selected joke:\n",
    "dfForAvg = ratings.loc[(ratings['jokeId'] == jokeId)]\n",
    "avg = dfForAvg.mean()[2]\n",
    "avg"
   ]
  },
  {
   "cell_type": "code",
   "execution_count": 281,
   "metadata": {},
   "outputs": [],
   "source": [
    "data = [[mostSimilarUserId, jokeId], [mostSimilarUserId, jokeId]] \n",
    "  \n",
    "# Create the pandas DataFrame for prediction \n",
    "newdf = pd.DataFrame(data, columns = [\"userId\", \"jokeId\"])\n",
    "newdf[\"Avg\"] = avg\n",
    "#newdf"
   ]
  },
  {
   "cell_type": "code",
   "execution_count": 282,
   "metadata": {},
   "outputs": [
    {
     "data": {
      "text/html": [],
      "text/plain": [
       "<IPython.core.display.HTML object>"
      ]
     },
     "metadata": {},
     "output_type": "display_data"
    },
    {
     "data": {
      "text/plain": [
       "tensor(-2.3754)"
      ]
     },
     "execution_count": 282,
     "metadata": {},
     "output_type": "execute_result"
    }
   ],
   "source": [
    "#Find model prediction for the mostSimilarUserId and the selected jokeId\n",
    "dl = learn.dls.test_dl(newdf)\n",
    "preds = learn.get_preds(dl=dl)\n",
    "pred = preds[0][0]\n",
    "pred"
   ]
  },
  {
   "cell_type": "code",
   "execution_count": 284,
   "metadata": {},
   "outputs": [],
   "source": [
    "#Find the user's real rating for the joke if it exists:\n",
    "selectedUserDF = ratings[ ratings[\"userId\"]==mostSimilarUserId]\n",
    "sUserforsJoke = selectedUserDF[selectedUserDF[\"jokeId\"]==jokeId]\n",
    "#sUserforsJoke"
   ]
  },
  {
   "cell_type": "code",
   "execution_count": 285,
   "metadata": {},
   "outputs": [
    {
     "name": "stdout",
     "output_type": "stream",
     "text": [
      "-7.312\n"
     ]
    }
   ],
   "source": [
    "#User's real ratings\n",
    "if(not sUserforsJoke.empty):\n",
    "    print(sUserforsJoke.iloc[0,2])\n",
    "else:\n",
    "    print(\"User has no rating for this joke.\")"
   ]
  },
  {
   "cell_type": "code",
   "execution_count": null,
   "metadata": {},
   "outputs": [],
   "source": []
  }
 ],
 "metadata": {
  "kernelspec": {
   "display_name": "Python 3",
   "language": "python",
   "name": "python3"
  },
  "language_info": {
   "codemirror_mode": {
    "name": "ipython",
    "version": 3
   },
   "file_extension": ".py",
   "mimetype": "text/x-python",
   "name": "python",
   "nbconvert_exporter": "python",
   "pygments_lexer": "ipython3",
   "version": "3.8.6"
  }
 },
 "nbformat": 4,
 "nbformat_minor": 4
}
